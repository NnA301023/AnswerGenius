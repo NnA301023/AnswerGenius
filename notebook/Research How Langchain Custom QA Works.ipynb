{
 "cells": [
  {
   "cell_type": "code",
   "execution_count": 1,
   "id": "67e12d30",
   "metadata": {},
   "outputs": [],
   "source": [
    "# Install libraries required\n",
    "# !pip install langchain --user\n",
    "# !pip install pypdf\n",
    "# !pip install pinecone-client\n",
    "# !pip install openai\n",
    "# !pip install tiktoken"
   ]
  },
  {
   "cell_type": "markdown",
   "id": "935b9929",
   "metadata": {},
   "source": [
    "Create Account on [OpenAI](https://platform.openai.com/) and [Pinecone](https://www.pinecone.io/) to get the API Key"
   ]
  },
  {
   "cell_type": "code",
   "execution_count": 2,
   "id": "722d2f69",
   "metadata": {},
   "outputs": [
    {
     "name": "stderr",
     "output_type": "stream",
     "text": [
      "C:\\Users\\alif\\anaconda3\\envs\\test\\lib\\site-packages\\pinecone\\index.py:4: TqdmExperimentalWarning: Using `tqdm.autonotebook.tqdm` in notebook mode. Use `tqdm.tqdm` instead to force console mode (e.g. in jupyter console)\n",
      "  from tqdm.autonotebook import tqdm\n",
      "C:\\Users\\alif\\anaconda3\\envs\\test\\lib\\site-packages\\numpy\\_distributor_init.py:30: UserWarning: loaded more than 1 DLL from .libs:\n",
      "C:\\Users\\alif\\anaconda3\\envs\\test\\lib\\site-packages\\numpy\\.libs\\libopenblas.WCDJNK7YVMPZQ2ME2ZZHJJRJ3JIKNDB7.gfortran-win_amd64.dll\n",
      "C:\\Users\\alif\\anaconda3\\envs\\test\\lib\\site-packages\\numpy\\.libs\\libopenblas64__v0.3.21-gcc_10_3_0.dll\n",
      "  warnings.warn(\"loaded more than 1 DLL from .libs:\"\n"
     ]
    }
   ],
   "source": [
    "# Load libraries\n",
    "import os \n",
    "import pinecone\n",
    "from langchain import OpenAI\n",
    "from langchain.chains import RetrievalQA\n",
    "from langchain.vectorstores import Pinecone\n",
    "from langchain.document_loaders import PyPDFLoader\n",
    "from langchain.embeddings.openai import OpenAIEmbeddings\n",
    "from langchain.text_splitter import RecursiveCharacterTextSplitter"
   ]
  },
  {
   "cell_type": "code",
   "execution_count": 13,
   "id": "a0c9c1b3",
   "metadata": {},
   "outputs": [],
   "source": [
    "# Define secret API key and variable from above platforms\n",
    "OPENAI_KEY = \"\"\n",
    "PINECONE_KEY = \"\"\n",
    "ENVIRONMENT_NAME = \"\""
   ]
  },
  {
   "cell_type": "code",
   "execution_count": 4,
   "id": "7e24b45c",
   "metadata": {},
   "outputs": [],
   "source": [
    "# Set environment variable of OPENAI Key\n",
    "os.environ[\"OPENAI_API_KEY\"] = OPENAI_KEY"
   ]
  },
  {
   "cell_type": "code",
   "execution_count": 5,
   "id": "06b21e50",
   "metadata": {},
   "outputs": [],
   "source": [
    "# Initialize pinecone\n",
    "pinecone.init(\n",
    "    api_key = PINECONE_KEY,\n",
    "    environment = ENVIRONMENT_NAME\n",
    ")"
   ]
  },
  {
   "cell_type": "code",
   "execution_count": 6,
   "id": "33e65a00",
   "metadata": {},
   "outputs": [],
   "source": [
    "# Create index - Custom Knowledge Base.\n",
    "loader = PyPDFLoader(\"dataset/Machine_Learning_Operations_MLOps__Overview,_Definition,_and_Architecture.pdf\")\n",
    "pages = loader.load_and_split()"
   ]
  },
  {
   "cell_type": "code",
   "execution_count": 7,
   "id": "da975153",
   "metadata": {},
   "outputs": [],
   "source": [
    "# Split text from PDF into smaller chunks\n",
    "text_splitter = RecursiveCharacterTextSplitter(\n",
    "    chunk_size = 1000,\n",
    "    chunk_overlap  = 200,\n",
    "    length_function = len,\n",
    ")\n",
    "\n",
    "docs = text_splitter.split_documents(pages)"
   ]
  },
  {
   "cell_type": "code",
   "execution_count": 8,
   "id": "b274b40d",
   "metadata": {},
   "outputs": [],
   "source": [
    "# Create embedding based on OpenAIEmbedding technique\n",
    "embeddings = OpenAIEmbeddings()"
   ]
  },
  {
   "cell_type": "code",
   "execution_count": 9,
   "id": "a72e49c1",
   "metadata": {},
   "outputs": [],
   "source": [
    "# Initialize document searching based on index in Pinecone\n",
    "index_name = \"test-index\"\n",
    "docsearch = Pinecone.from_existing_index(index_name, embeddings)"
   ]
  },
  {
   "cell_type": "code",
   "execution_count": 10,
   "id": "7c1ef3d4",
   "metadata": {},
   "outputs": [],
   "source": [
    "# define LLM and QA Object\n",
    "llm = OpenAI(temperature=0.2)\n",
    "qa = RetrievalQA.from_chain_type(\n",
    "    llm = llm, \n",
    "    chain_type = \"stuff\", \n",
    "    retriever = docsearch.as_retriever(search_kwargs={\"k\": 2})\n",
    ")"
   ]
  },
  {
   "cell_type": "code",
   "execution_count": 12,
   "id": "6d532d8b",
   "metadata": {},
   "outputs": [
    {
     "data": {
      "text/plain": [
       "'\\n\\nMLOps (also known as DevOps for machine learning) is a practice that combines software development and operations processes to automate and streamline the process of building, testing, and deploying machine learning models. It helps to ensure that models are developed and deployed in a consistent and reliable way.'"
      ]
     },
     "execution_count": 12,
     "metadata": {},
     "output_type": "execute_result"
    }
   ],
   "source": [
    "# Test Query based on our Custom Knowledge Base\n",
    "query = \"What is MLOps?\"\n",
    "qa.run(query)"
   ]
  }
 ],
 "metadata": {
  "kernelspec": {
   "display_name": "Python 3 (ipykernel)",
   "language": "python",
   "name": "python3"
  },
  "language_info": {
   "codemirror_mode": {
    "name": "ipython",
    "version": 3
   },
   "file_extension": ".py",
   "mimetype": "text/x-python",
   "name": "python",
   "nbconvert_exporter": "python",
   "pygments_lexer": "ipython3",
   "version": "3.9.7"
  }
 },
 "nbformat": 4,
 "nbformat_minor": 5
}
